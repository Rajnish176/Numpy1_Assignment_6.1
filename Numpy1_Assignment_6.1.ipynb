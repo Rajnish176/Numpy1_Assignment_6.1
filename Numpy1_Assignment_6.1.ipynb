{
 "cells": [
  {
   "cell_type": "code",
   "execution_count": 1,
   "metadata": {},
   "outputs": [
    {
     "name": "stdout",
     "output_type": "stream",
     "text": [
      "[[  1   2   4   8  16]\n",
      " [  1   3   9  27  81]\n",
      " [  1   5  25 125 625]]\n"
     ]
    }
   ],
   "source": [
    "import numpy as np\n",
    "def vandermonde_matrix(vector,matrix_order):\n",
    "    return np.fliplr(np.vander(vector,matrix_order))\n",
    "x=vandermonde_matrix(np.array([2,3,5]),5)\n",
    "print(x)"
   ]
  },
  {
   "cell_type": "code",
   "execution_count": null,
   "metadata": {
    "collapsed": true
   },
   "outputs": [],
   "source": []
  }
 ],
 "metadata": {
  "kernelspec": {
   "display_name": "Python 3",
   "language": "python",
   "name": "python3"
  },
  "language_info": {
   "codemirror_mode": {
    "name": "ipython",
    "version": 3
   },
   "file_extension": ".py",
   "mimetype": "text/x-python",
   "name": "python",
   "nbconvert_exporter": "python",
   "pygments_lexer": "ipython3",
   "version": "3.6.3"
  }
 },
 "nbformat": 4,
 "nbformat_minor": 2
}
